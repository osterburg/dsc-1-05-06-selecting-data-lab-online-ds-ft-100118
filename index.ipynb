{
 "cells": [
  {
   "cell_type": "markdown",
   "metadata": {},
   "source": [
    "# Selecting Data - Lab"
   ]
  },
  {
   "cell_type": "markdown",
   "metadata": {},
   "source": [
    "## Introduction \n",
    "\n",
    "NASA wants to go to Mars! Before they build their rocket, NASA needs to track information about all of the planets in the Solar System. Use SQL to help NASA create, alter, and insert data into a database that stores all of this important information. Then practice querying the database with various `SELECT` statements. We will select different columns, and employ other SQL clauses like `WHERE` to return the data we would like."
   ]
  },
  {
   "cell_type": "markdown",
   "metadata": {},
   "source": [
    "![solar_system](https://bilingualcarloscano.files.wordpress.com/2010/05/venus.jpg)"
   ]
  },
  {
   "cell_type": "markdown",
   "metadata": {},
   "source": [
    "## Objectives\n",
    "You will be able to:\n",
    "* Retrieve all the information from a table\n",
    "* Retrieve a subset of records from a table using a `WHERE` clause\n",
    "* Retrieve a subset of columns from a table"
   ]
  },
  {
   "cell_type": "markdown",
   "metadata": {},
   "source": [
    "## Instructions"
   ]
  },
  {
   "cell_type": "markdown",
   "metadata": {},
   "source": [
    "### Part 1: Table setup"
   ]
  },
  {
   "cell_type": "markdown",
   "metadata": {},
   "source": [
    "#### Create a table\n",
    "\n",
    "In the `create.sql` file, use the `CREATE TABLE` command to create a table called `planets`.  \n",
    "\n",
    "**Remember:** your create table statement should be formatted like the following:"
   ]
  },
  {
   "cell_type": "markdown",
   "metadata": {},
   "source": [
    "```sql\n",
    "CREATE TABLE table_name (\n",
    "   # column_names and data types here\n",
    ");\n",
    "```"
   ]
  },
  {
   "cell_type": "markdown",
   "metadata": {},
   "source": [
    "NASA is interested in comparing each planet across several characteristics.  They want to know each planet's name,  color, number of moons, and mass (relative to earth).  Your columns should be the following types:\n",
    "\n",
    "|column | type  |\n",
    "|-------|-------|\n",
    "|id     |integer|\n",
    "|name   |text   |\n",
    "|color  |text   |\n",
    "|num_of_moons  |integer|\n",
    "|mass   | real  |\n",
    "\n",
    "> **Notes:** Make sure to set the `id` column as the table's primary key."
   ]
  },
  {
   "cell_type": "code",
   "execution_count": 18,
   "metadata": {},
   "outputs": [
    {
     "name": "stdout",
     "output_type": "stream",
     "text": [
      "CONTRIBUTING.md  create.db        index.ipynb      update.sql\r\n",
      "LICENSE.md       create.sql       insert.sql       windows.yml\r\n",
      "README.md        delete.sql       \u001b[34mpytests\u001b[m\u001b[m/\r\n",
      "alter.sql        environment.yml  sql_selects.py\r\n"
     ]
    }
   ],
   "source": [
    "ls"
   ]
  },
  {
   "cell_type": "code",
   "execution_count": 25,
   "metadata": {},
   "outputs": [],
   "source": [
    "import sqlite3 as sq\n",
    "connection = sq.connect('alter.db')\n",
    "cursor = connection.cursor()"
   ]
  },
  {
   "cell_type": "code",
   "execution_count": 26,
   "metadata": {},
   "outputs": [
    {
     "data": {
      "text/plain": [
       "<sqlite3.Cursor at 0x10ec3db20>"
      ]
     },
     "execution_count": 26,
     "metadata": {},
     "output_type": "execute_result"
    }
   ],
   "source": [
    "cursor.execute('''\n",
    "                CREATE TABLE planets (\n",
    "                id INTEGER PRIMARY KEY,\n",
    "                name TEXT, \n",
    "                color TEXT, \n",
    "                num_of_moons INTEGER,\n",
    "                mass REAL\n",
    "                );'''\n",
    "               )"
   ]
  },
  {
   "cell_type": "code",
   "execution_count": 37,
   "metadata": {},
   "outputs": [
    {
     "data": {
      "text/plain": [
       "[(0, 'id', 'INTEGER', 0, None, 1),\n",
       " (1, 'name', 'TEXT', 0, None, 0),\n",
       " (2, 'color', 'TEXT', 0, None, 0),\n",
       " (3, 'num_of_moons', 'INTEGER', 0, None, 0),\n",
       " (4, 'mass', 'REAL', 0, None, 0),\n",
       " (5, 'rings', 'BOOLEAN', 0, None, 0)]"
      ]
     },
     "execution_count": 37,
     "metadata": {},
     "output_type": "execute_result"
    }
   ],
   "source": [
    "cursor.execute('''PRAGMA table_info(planets)''').fetchall()"
   ]
  },
  {
   "cell_type": "markdown",
   "metadata": {},
   "source": [
    "#### Alter the table"
   ]
  },
  {
   "cell_type": "markdown",
   "metadata": {},
   "source": [
    "NASA notices that several of the planets have rings around them.  However, we do not have a column to keep track of this information.  In the `alter.sql` file, use the `ALTER TABLE` statement to add a column called `rings` with a data type of `boolean` to the `planets` table."
   ]
  },
  {
   "cell_type": "code",
   "execution_count": 28,
   "metadata": {},
   "outputs": [
    {
     "data": {
      "text/plain": [
       "<sqlite3.Cursor at 0x10ec3db20>"
      ]
     },
     "execution_count": 28,
     "metadata": {},
     "output_type": "execute_result"
    }
   ],
   "source": [
    "cursor.execute('''ALTER TABLE planets ADD COLUMN rings BOOLEAN;''')"
   ]
  },
  {
   "cell_type": "markdown",
   "metadata": {},
   "source": [
    "### Part 2: Add and remove data"
   ]
  },
  {
   "cell_type": "markdown",
   "metadata": {},
   "source": [
    "#### Add data to the table\n",
    "\n",
    "In the `insert.sql` file, input data for the nine planets that constitute the Solar System using the `INSERT INTO` command.  The relevant information is provided in the table below:"
   ]
  },
  {
   "cell_type": "markdown",
   "metadata": {},
   "source": [
    "|name   |color |num_of_moons|mass|rings|\n",
    "|-------|-------|-------|-------|-------|\n",
    "|Mercury|gray   |0      |0.55   |no     |\n",
    "|Venus  |yellow |0      |0.82   |no     |\n",
    "|Earth  |blue   |1      |1.00   |no     |\n",
    "|Mars   |red    |2      |0.11   |no     |\n",
    "|Jupiter|orange |53     |317.90 |no     |\n",
    "|Saturn |hazel  |62     |95.19  |yes    |\n",
    "|Uranus |light blue|27  |14.54  |yes    |\n",
    "|Neptune|dark blue|14   |17.15  |yes    |\n",
    "|Pluto  |brown  |5      |0.003  |no     |\n",
    "\n",
    "Refer to the [SQLite3 documentation](https://www.sqlite.org/datatype3.html) to remember how to express boolean values in SQLite3."
   ]
  },
  {
   "cell_type": "code",
   "execution_count": 36,
   "metadata": {},
   "outputs": [
    {
     "data": {
      "text/plain": [
       "<sqlite3.Cursor at 0x10ec3db20>"
      ]
     },
     "execution_count": 36,
     "metadata": {},
     "output_type": "execute_result"
    }
   ],
   "source": [
    "file = open(\"./insert.sql\", 'r') \n",
    "sql = file.read() \n",
    "cursor.execute(sql) \n",
    "file.close()\n",
    "cursor.execute('''INSERT INTO planets (name, color, num_of_moons, mass, rings)\n",
    "                        VALUES ('Mercury', 'gray', 0, 0.55, 0),\n",
    "                               ('Venus', 'yellow', 0, 0.82, 0),\n",
    "                               ('Earth', 'blue', 1, 1.0, 0),\n",
    "                               ('Mars', 'red', 2, 0.11, 0),\n",
    "                               ('Jupiter', 'orange', 53, 317.90, 0),\n",
    "                               ('Saturn', 'hazel', 62, 95.19, 1),\n",
    "                               ('Uranus', 'light blue', 27, 14.54, 1),\n",
    "                               ('Neptune', 'dark blue', 14, 17.15, 1),\n",
    "                               ('Pluto', 'brown', 5, 0.003, 0);''')"
   ]
  },
  {
   "cell_type": "markdown",
   "metadata": {},
   "source": [
    "#### Update table data\n",
    "\n",
    "NASA has confirmed that Jupiter has another 15 moons!  Write an `UPDATE` command in `update.sql` so that Jupiter has 68 moons instead of 53.\n",
    "\n",
    "> **Hint**: you probably need to use a `WHERE` statement to accomplish this task."
   ]
  },
  {
   "cell_type": "code",
   "execution_count": 38,
   "metadata": {},
   "outputs": [
    {
     "data": {
      "text/plain": [
       "<sqlite3.Cursor at 0x10ec3db20>"
      ]
     },
     "execution_count": 38,
     "metadata": {},
     "output_type": "execute_result"
    }
   ],
   "source": [
    "file = open(\"./update.sql\", 'r') \n",
    "sql = file.read() \n",
    "cursor.execute(sql) \n",
    "file.close()\n",
    "cursor.execute('''UPDATE planets SET num_of_moons = 53 WHERE num_of_moons = 68''')"
   ]
  },
  {
   "cell_type": "markdown",
   "metadata": {},
   "source": [
    "#### Remove data from the table"
   ]
  },
  {
   "cell_type": "markdown",
   "metadata": {},
   "source": [
    "Wait just a moment!  NASA decided that Pluto is no longer a planet.  In the `delete.sql` file, remove Pluto from the table using the `DELETE FROM` command."
   ]
  },
  {
   "cell_type": "markdown",
   "metadata": {},
   "source": [
    "## Onto Selecting Data"
   ]
  },
  {
   "cell_type": "markdown",
   "metadata": {},
   "source": [
    "We will be querying data from the `planets` table we just created. We can see it again below. No need to query the table we just created for the following set of tests. This `planets` table is created in the `create.sql` file and already seeded with data from the `seed.sql` file. The table's data and structure is provided below:\n",
    "\n",
    "|name   |color |num_of_moons|mass|rings|\n",
    "|-------|-------|-------|-------|-------|\n",
    "|Mercury|gray   |0      |0.55   |no     |\n",
    "|Venus  |yellow |0      |0.82   |no     |\n",
    "|Earth  |blue   |1      |1.00   |no     |\n",
    "|Mars   |red    |2      |0.11   |no     |\n",
    "|Jupiter|orange |67     |317.90 |no     |\n",
    "|Saturn |hazel  |62     |95.19  |yes    |\n",
    "|Uranus |light blue|27  |14.54  |yes    |\n",
    "|Neptune|dark blue|14   |17.15  |yes    |"
   ]
  },
  {
   "cell_type": "markdown",
   "metadata": {},
   "source": [
    "Write your `SELECT` SQL queries inside the `sql_selects.py` file. To get the tests in `test/index_test.py` to pass, add the correct SQL query to the empty string returned in each function. See the example below.\n",
    "\n",
    "```python\n",
    "def select_example_func():\n",
    "    return '''SQL SELECT STATEMENT GOES HERE'''\n",
    "```"
   ]
  },
  {
   "cell_type": "markdown",
   "metadata": {},
   "source": [
    "* `select_all_columns_and_rows` should return all of the data featured in the `planets` table"
   ]
  },
  {
   "cell_type": "code",
   "execution_count": null,
   "metadata": {},
   "outputs": [],
   "source": [
    "def select_all_columns_and_rows():\n",
    "    cursor.execute('''SELECT * FROM planets;''')"
   ]
  },
  {
   "cell_type": "markdown",
   "metadata": {},
   "source": [
    "* `select_name_and_color_of_all_planets` should return the name and color of each planet"
   ]
  },
  {
   "cell_type": "code",
   "execution_count": null,
   "metadata": {},
   "outputs": [],
   "source": [
    "def select_name_and_color_of_all_planets():\n",
    "    cursor.execute('''SELECT name, color FROM planets;''')"
   ]
  },
  {
   "cell_type": "markdown",
   "metadata": {},
   "source": [
    "* `select_all_planets_with_mass_greater_than_one` should return all columns for each planet whose mass is greater than 1.00\n"
   ]
  },
  {
   "cell_type": "code",
   "execution_count": null,
   "metadata": {},
   "outputs": [],
   "source": [
    "def select_all_planets_with_mass_greater_than_one():\n",
    "    curcor.execute('''SELECT * FROM plantes WHERE mass > 1.00;''')"
   ]
  },
  {
   "cell_type": "markdown",
   "metadata": {},
   "source": [
    "* `select_name_and_mass_of_planets_with_mass_less_than_equal_to_one` should return the name and mass of each planet whose mass is greater than or equal to 1.00"
   ]
  },
  {
   "cell_type": "code",
   "execution_count": null,
   "metadata": {},
   "outputs": [],
   "source": [
    "def select_name_and_mass_of_planets_with_mass_less_than_equal_to_one():\n",
    "    cursor.execute('''SELECT name, mass FROM planets WHERE mass <= 1.00;''')"
   ]
  },
  {
   "cell_type": "markdown",
   "metadata": {},
   "source": [
    "* `select_name_and_color_of_planets_with_more_than_10_moons` should return the name and color of each planets that has more than 10 moons"
   ]
  },
  {
   "cell_type": "code",
   "execution_count": null,
   "metadata": {},
   "outputs": [],
   "source": [
    "def select_name_and_color_of_planets_with_more_than_10_moons():\n",
    "    cursor.execute('''SELECT name, color FROM planets WHERE num_of_moons > 10;''')"
   ]
  },
  {
   "cell_type": "markdown",
   "metadata": {},
   "source": [
    "* `select_all_planets_with_moons_and_mass_less_than_one` should return the planet that has at least one moon and a mass less than 1.00"
   ]
  },
  {
   "cell_type": "code",
   "execution_count": null,
   "metadata": {},
   "outputs": [],
   "source": [
    "def select_all_planets_with_moons_and_mass_less_than_one():\n",
    "    cursor.execute('''SELECT * FROM planets WHERE num_of_moons < 1, mass < 1.00;''')"
   ]
  },
  {
   "cell_type": "markdown",
   "metadata": {},
   "source": [
    "* `select_name_and_color_of_all_blue_planets` should return the name and color of planets that have a color of blue, light blue, or dark blue"
   ]
  },
  {
   "cell_type": "code",
   "execution_count": null,
   "metadata": {},
   "outputs": [],
   "source": [
    "def select_name_and_color_of_all_blue_planets():\n",
    "    cursor.execute('''SELECT name, color FROM planets WHERE color == \"blue\"; ''')"
   ]
  },
  {
   "cell_type": "markdown",
   "metadata": {},
   "source": [
    "## Summary"
   ]
  },
  {
   "cell_type": "markdown",
   "metadata": {},
   "source": [
    "Congratulations! NASA is one step closer to embarking upon its mission to Mars. In this lab, we created a table to track all the planets in the solar system, altered the table to include another column, inserted values to populate the table, and we deleted data from the table. Then we practiced writing select statements that query a single table to get specific information. We also used other clauses and specified column names to cherry pick the data we wanted to retrieve. "
   ]
  }
 ],
 "metadata": {
  "kernelspec": {
   "display_name": "Python 3",
   "language": "python",
   "name": "python3"
  },
  "language_info": {
   "codemirror_mode": {
    "name": "ipython",
    "version": 3
   },
   "file_extension": ".py",
   "mimetype": "text/x-python",
   "name": "python",
   "nbconvert_exporter": "python",
   "pygments_lexer": "ipython3",
   "version": "3.6.4"
  }
 },
 "nbformat": 4,
 "nbformat_minor": 2
}
